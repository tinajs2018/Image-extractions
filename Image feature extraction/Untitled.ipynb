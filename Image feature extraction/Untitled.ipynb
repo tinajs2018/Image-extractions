{
 "cells": [
  {
   "cell_type": "code",
   "execution_count": 1,
   "metadata": {},
   "outputs": [
    {
     "name": "stdout",
     "output_type": "stream",
     "text": [
      "Collecting package metadata (current_repodata.json): done\n",
      "Solving environment: failed with initial frozen solve. Retrying with flexible solve.\n",
      "Solving environment: failed with repodata from current_repodata.json, will retry with next repodata source.\n",
      "Collecting package metadata (repodata.json): done\n",
      "Solving environment: done\n",
      "\n",
      "## Package Plan ##\n",
      "\n",
      "  environment location: /home/karimi/anaconda3\n",
      "\n",
      "  added / updated specs:\n",
      "    - opencv\n",
      "\n",
      "\n",
      "The following packages will be downloaded:\n",
      "\n",
      "    package                    |            build\n",
      "    ---------------------------|-----------------\n",
      "    _anaconda_depends-2019.10  |           py37_0           6 KB\n",
      "    anaconda-custom            |           py37_1           3 KB\n",
      "    ca-certificates-2021.5.30  |       ha878542_0         136 KB  conda-forge\n",
      "    certifi-2021.5.30          |   py37h89c1867_0         141 KB  conda-forge\n",
      "    ffmpeg-4.0.2               |       ha0c5888_2        62.1 MB  conda-forge\n",
      "    freeglut-3.0.0             |       hfc679d8_5         247 KB  conda-forge\n",
      "    gnutls-3.5.19              |       h2a4e5f8_1         1.9 MB  conda-forge\n",
      "    h5py-2.8.0                 |py37h3010b51_1003         1.1 MB  conda-forge\n",
      "    hdf5-1.10.2                |       hc401514_3         4.8 MB  conda-forge\n",
      "    jasper-2.0.14              |       h07fcdf6_1         707 KB\n",
      "    libgfortran-3.0.0          |                1         281 KB  conda-forge\n",
      "    libglu-9.0.0               |    he1b5a44_1001         413 KB  conda-forge\n",
      "    libiconv-1.16              |       h516909a_0         1.4 MB  conda-forge\n",
      "    libopencv-3.4.2            |       hb342d67_1        21.8 MB\n",
      "    nettle-3.3                 |                0         3.1 MB  conda-forge\n",
      "    opencv-3.4.2               |   py37h6fd60c2_1          11 KB\n",
      "    openh264-1.8.0             |    hdbcaa40_1000         1.4 MB  conda-forge\n",
      "    openssl-1.1.1h             |       h516909a_0         2.1 MB  conda-forge\n",
      "    py-opencv-3.4.2            |   py37hb342d67_1         1.0 MB\n",
      "    pytables-3.4.4             |   py37ha205bf6_0         1.2 MB\n",
      "    x264-1!152.20180806        |       h14c3975_0         1.4 MB  conda-forge\n",
      "    ------------------------------------------------------------\n",
      "                                           Total:       105.3 MB\n",
      "\n",
      "The following NEW packages will be INSTALLED:\n",
      "\n",
      "  _anaconda_depends  pkgs/main/linux-64::_anaconda_depends-2019.10-py37_0\n",
      "  ffmpeg             conda-forge/linux-64::ffmpeg-4.0.2-ha0c5888_2\n",
      "  freeglut           conda-forge/linux-64::freeglut-3.0.0-hfc679d8_5\n",
      "  gnutls             conda-forge/linux-64::gnutls-3.5.19-h2a4e5f8_1\n",
      "  jasper             pkgs/main/linux-64::jasper-2.0.14-h07fcdf6_1\n",
      "  libgfortran        conda-forge/linux-64::libgfortran-3.0.0-1\n",
      "  libglu             conda-forge/linux-64::libglu-9.0.0-he1b5a44_1001\n",
      "  libiconv           conda-forge/linux-64::libiconv-1.16-h516909a_0\n",
      "  libopencv          pkgs/main/linux-64::libopencv-3.4.2-hb342d67_1\n",
      "  nettle             conda-forge/linux-64::nettle-3.3-0\n",
      "  opencv             pkgs/main/linux-64::opencv-3.4.2-py37h6fd60c2_1\n",
      "  openh264           conda-forge/linux-64::openh264-1.8.0-hdbcaa40_1000\n",
      "  py-opencv          pkgs/main/linux-64::py-opencv-3.4.2-py37hb342d67_1\n",
      "  x264               conda-forge/linux-64::x264-1!152.20180806-h14c3975_0\n",
      "\n",
      "The following packages will be UPDATED:\n",
      "\n",
      "  ca-certificates    pkgs/main::ca-certificates-2019.8.28-0 --> conda-forge::ca-certificates-2021.5.30-ha878542_0\n",
      "  certifi                                  2019.9.11-py37_0 --> 2021.5.30-py37h89c1867_0\n",
      "  openssl              pkgs/main::openssl-1.1.1d-h7b6447c_2 --> conda-forge::openssl-1.1.1h-h516909a_0\n",
      "\n",
      "The following packages will be SUPERSEDED by a higher-priority channel:\n",
      "\n",
      "  h5py                 pkgs/main::h5py-2.9.0-py37h7918eee_0 --> conda-forge::h5py-2.8.0-py37h3010b51_1003\n",
      "  hdf5                    pkgs/main::hdf5-1.10.4-hb1b8bf9_0 --> conda-forge::hdf5-1.10.2-hc401514_3\n",
      "\n",
      "The following packages will be DOWNGRADED:\n",
      "\n",
      "  anaconda                                   2019.10-py37_0 --> custom-py37_1\n",
      "  pytables                             3.5.2-py37h71ec239_1 --> 3.4.4-py37ha205bf6_0\n",
      "\n",
      "\n",
      "\n",
      "Downloading and Extracting Packages\n",
      "openssl-1.1.1h       | 2.1 MB    | ##################################### | 100% \n",
      "jasper-2.0.14        | 707 KB    | ##################################### | 100% \n",
      "pytables-3.4.4       | 1.2 MB    | ##################################### | 100% \n",
      "opencv-3.4.2         | 11 KB     | ##################################### | 100% \n",
      "libopencv-3.4.2      | 21.8 MB   | ##################################### | 100% \n",
      "gnutls-3.5.19        | 1.9 MB    | ##################################### | 100% \n",
      "hdf5-1.10.2          | 4.8 MB    | ##################################### | 100% \n",
      "libiconv-1.16        | 1.4 MB    | ##################################### | 100% \n",
      "ca-certificates-2021 | 136 KB    | ##################################### | 100% \n",
      "nettle-3.3           | 3.1 MB    | ##################################### | 100% \n",
      "py-opencv-3.4.2      | 1.0 MB    | ##################################### | 100% \n",
      "openh264-1.8.0       | 1.4 MB    | ##################################### | 100% \n",
      "ffmpeg-4.0.2         | 62.1 MB   | ##################################### | 100% \n",
      "h5py-2.8.0           | 1.1 MB    | ##################################### | 100% \n",
      "x264-1!152.20180806  | 1.4 MB    | ##################################### | 100% \n",
      "certifi-2021.5.30    | 141 KB    | ##################################### | 100% \n",
      "freeglut-3.0.0       | 247 KB    | ##################################### | 100% \n",
      "libgfortran-3.0.0    | 281 KB    | ##################################### | 100% \n",
      "_anaconda_depends-20 | 6 KB      | ##################################### | 100% \n",
      "anaconda-custom      | 3 KB      | ##################################### | 100% \n",
      "libglu-9.0.0         | 413 KB    | ##################################### | 100% \n",
      "Preparing transaction: done\n",
      "Verifying transaction: done\n",
      "Executing transaction: done\n",
      "\n",
      "Note: you may need to restart the kernel to use updated packages.\n"
     ]
    }
   ],
   "source": [
    "conda install -c conda-forge opencv\n"
   ]
  },
  {
   "cell_type": "code",
   "execution_count": 2,
   "metadata": {},
   "outputs": [],
   "source": [
    "import cv2"
   ]
  },
  {
   "cell_type": "code",
   "execution_count": 4,
   "metadata": {},
   "outputs": [],
   "source": [
    "import os"
   ]
  },
  {
   "cell_type": "code",
   "execution_count": 5,
   "metadata": {},
   "outputs": [],
   "source": [
    "img_building = cv2.imread(os.path.join('IMG_20200724_171901_981_1596889547025-1.jpg'))"
   ]
  },
  {
   "cell_type": "code",
   "execution_count": 6,
   "metadata": {},
   "outputs": [
    {
     "data": {
      "text/plain": [
       "array([[[ 14,  14,  14],\n",
       "        [ 13,  13,  13],\n",
       "        [ 13,  13,  13],\n",
       "        ...,\n",
       "        [111, 111, 111],\n",
       "        [111, 111, 111],\n",
       "        [111, 111, 111]],\n",
       "\n",
       "       [[ 13,  13,  13],\n",
       "        [ 13,  13,  13],\n",
       "        [  9,   9,   9],\n",
       "        ...,\n",
       "        [111, 111, 111],\n",
       "        [113, 113, 113],\n",
       "        [113, 113, 113]],\n",
       "\n",
       "       [[ 12,  12,  12],\n",
       "        [ 10,  10,  10],\n",
       "        [ 12,  12,  12],\n",
       "        ...,\n",
       "        [109, 109, 109],\n",
       "        [111, 111, 111],\n",
       "        [109, 109, 109]],\n",
       "\n",
       "       ...,\n",
       "\n",
       "       [[253, 253, 253],\n",
       "        [254, 254, 254],\n",
       "        [253, 253, 253],\n",
       "        ...,\n",
       "        [240, 240, 240],\n",
       "        [238, 238, 238],\n",
       "        [240, 240, 240]],\n",
       "\n",
       "       [[253, 253, 253],\n",
       "        [253, 253, 253],\n",
       "        [253, 253, 253],\n",
       "        ...,\n",
       "        [237, 237, 237],\n",
       "        [239, 239, 239],\n",
       "        [240, 240, 240]],\n",
       "\n",
       "       [[253, 253, 253],\n",
       "        [253, 253, 253],\n",
       "        [253, 253, 253],\n",
       "        ...,\n",
       "        [237, 237, 237],\n",
       "        [238, 238, 238],\n",
       "        [239, 239, 239]]], dtype=uint8)"
      ]
     },
     "execution_count": 6,
     "metadata": {},
     "output_type": "execute_result"
    }
   ],
   "source": [
    "img_building"
   ]
  },
  {
   "cell_type": "code",
   "execution_count": 7,
   "metadata": {},
   "outputs": [
    {
     "name": "stdout",
     "output_type": "stream",
     "text": [
      "Collecting package metadata (current_repodata.json): done\n",
      "Solving environment: done\n",
      "\n",
      "## Package Plan ##\n",
      "\n",
      "  environment location: /home/karimi/anaconda3\n",
      "\n",
      "  added / updated specs:\n",
      "    - pypdf2\n",
      "\n",
      "\n",
      "The following packages will be downloaded:\n",
      "\n",
      "    package                    |            build\n",
      "    ---------------------------|-----------------\n",
      "    pypdf2-1.26.0              |             py_2          48 KB  conda-forge\n",
      "    ------------------------------------------------------------\n",
      "                                           Total:          48 KB\n",
      "\n",
      "The following NEW packages will be INSTALLED:\n",
      "\n",
      "  pypdf2             conda-forge/noarch::pypdf2-1.26.0-py_2\n",
      "\n",
      "\n",
      "\n",
      "Downloading and Extracting Packages\n",
      "pypdf2-1.26.0        | 48 KB     | ##################################### | 100% \n",
      "Preparing transaction: done\n",
      "Verifying transaction: done\n",
      "Executing transaction: done\n",
      "\n",
      "Note: you may need to restart the kernel to use updated packages.\n"
     ]
    }
   ],
   "source": [
    "conda install -c conda-forge pypdf2"
   ]
  },
  {
   "cell_type": "code",
   "execution_count": 9,
   "metadata": {},
   "outputs": [
    {
     "name": "stdout",
     "output_type": "stream",
     "text": [
      "Collecting package metadata (current_repodata.json): done\n",
      "Solving environment: failed with initial frozen solve. Retrying with flexible solve.\n",
      "Collecting package metadata (repodata.json): done\n",
      "Solving environment: failed with initial frozen solve. Retrying with flexible solve.\n",
      "\n",
      "PackagesNotFoundError: The following packages are not available from current channels:\n",
      "\n",
      "  - pyttsx3\n",
      "\n",
      "Current channels:\n",
      "\n",
      "  - https://conda.anaconda.org/conda-forge/linux-64\n",
      "  - https://conda.anaconda.org/conda-forge/noarch\n",
      "  - https://repo.anaconda.com/pkgs/main/linux-64\n",
      "  - https://repo.anaconda.com/pkgs/main/noarch\n",
      "  - https://repo.anaconda.com/pkgs/r/linux-64\n",
      "  - https://repo.anaconda.com/pkgs/r/noarch\n",
      "\n",
      "To search for alternate channels that may provide the conda package you're\n",
      "looking for, navigate to\n",
      "\n",
      "    https://anaconda.org\n",
      "\n",
      "and use the search bar at the top of the page.\n",
      "\n",
      "\n",
      "\n",
      "Note: you may need to restart the kernel to use updated packages.\n"
     ]
    }
   ],
   "source": [
    "conda install -c conda-forge pyttsx3 "
   ]
  },
  {
   "cell_type": "code",
   "execution_count": null,
   "metadata": {},
   "outputs": [],
   "source": []
  }
 ],
 "metadata": {
  "kernelspec": {
   "display_name": "Python 3",
   "language": "python",
   "name": "python3"
  },
  "language_info": {
   "codemirror_mode": {
    "name": "ipython",
    "version": 3
   },
   "file_extension": ".py",
   "mimetype": "text/x-python",
   "name": "python",
   "nbconvert_exporter": "python",
   "pygments_lexer": "ipython3",
   "version": "3.7.4"
  }
 },
 "nbformat": 4,
 "nbformat_minor": 2
}
